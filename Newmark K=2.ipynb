{
 "cells": [
  {
   "cell_type": "markdown",
   "metadata": {},
   "source": [
    "# 2. Finite difference approximation of the 1D wave equation\n",
    "## Newmark solution for K=2\n",
    "\n",
    "We compute the integral WRT x by Newmark and the integral WRT mu with Monte-Carlo, more precisely, we compute\n",
    "1/N_M * 1/(N_h+1) * sum_i sum_j (u_FD(x_j, mu_i) - u_ex(x_j, mu_i))^2\n",
    "\n",
    "All errors are around 0. "
   ]
  },
  {
   "cell_type": "code",
   "execution_count": 1,
   "metadata": {},
   "outputs": [],
   "source": [
    "import numpy as np\n",
    "import matplotlib.pyplot as plt\n",
    "from matplotlib.lines import Line2D\n",
    "from functions import *\n",
    "\n",
    "a = -1\n",
    "b = 1\n"
   ]
  },
  {
   "cell_type": "code",
   "execution_count": 2,
   "metadata": {},
   "outputs": [
    {
     "name": "stdout",
     "output_type": "stream",
     "text": [
      "[19 29 39 49 59]\n",
      "[  10  100  500 1000]\n"
     ]
    }
   ],
   "source": [
    "N_hs = np.array([19, 29, 39, 49, 59])\n",
    "N_Ms = np.array([10, 100, 500, 1000])\n",
    "K = 2\n",
    "print(N_hs)\n",
    "print(N_Ms)\n",
    "PATH_SAVE = \"./table convergence/Newmark_K=2\""
   ]
  },
  {
   "cell_type": "markdown",
   "metadata": {},
   "source": [
    "# first with one parameter Mu (N_mu = 1)"
   ]
  },
  {
   "cell_type": "code",
   "execution_count": 3,
   "metadata": {},
   "outputs": [
    {
     "name": "stdout",
     "output_type": "stream",
     "text": [
      "N_h =  19 h =  0.05 , N_M =  10\n",
      "N_h =  19 h =  0.05 , N_M =  100\n",
      "N_h =  19 h =  0.05 , N_M =  500\n",
      "N_h =  19 h =  0.05 , N_M =  1000\n",
      "err :  [1.25962401e-31 1.30470912e-31 1.17030622e-31 1.24749768e-31]\n",
      "N_h =  29 h =  0.03333333333333333 , N_M =  10\n",
      "N_h =  29 h =  0.03333333333333333 , N_M =  100\n",
      "N_h =  29 h =  0.03333333333333333 , N_M =  500\n",
      "N_h =  29 h =  0.03333333333333333 , N_M =  1000\n",
      "err :  [3.38923065e-31 2.67099062e-31 2.61380572e-31 2.75354601e-31]\n",
      "N_h =  39 h =  0.025 , N_M =  10\n",
      "N_h =  39 h =  0.025 , N_M =  100\n",
      "N_h =  39 h =  0.025 , N_M =  500\n",
      "N_h =  39 h =  0.025 , N_M =  1000\n",
      "err :  [8.85308753e-31 5.80214971e-31 5.45035632e-31 5.08544968e-31]\n",
      "N_h =  49 h =  0.02 , N_M =  10\n",
      "N_h =  49 h =  0.02 , N_M =  100\n",
      "N_h =  49 h =  0.02 , N_M =  500\n",
      "N_h =  49 h =  0.02 , N_M =  1000\n",
      "err :  [8.00568712e-31 8.07184753e-31 9.73279603e-31 9.09926780e-31]\n",
      "N_h =  59 h =  0.016666666666666666 , N_M =  10\n",
      "N_h =  59 h =  0.016666666666666666 , N_M =  100\n",
      "N_h =  59 h =  0.016666666666666666 , N_M =  500\n",
      "N_h =  59 h =  0.016666666666666666 , N_M =  1000\n",
      "err :  [1.13701216e-30 1.56971723e-30 1.55312882e-30 1.60545602e-30]\n"
     ]
    }
   ],
   "source": [
    "N_mu = 1\n",
    "trials = 1\n",
    "err = np.zeros((len(N_hs), len(N_Ms)))\n",
    "\n",
    "for l, N_h in enumerate(N_hs):\n",
    "    h = 1/(N_h + 1)\n",
    "    H = np.arange(1, N_h+1)*h\n",
    "    for k, N_M in enumerate(N_Ms):\n",
    "        print(\"N_h = \", N_h, \"h = \", h, \", N_M = \", N_M)\n",
    "        integral_trials = np.zeros(trials)\n",
    "        for i in range(trials):\n",
    "            Mus = np.random.uniform(low = -1, high = 1, size = (N_mu, N_M))\n",
    "            I_Ns = np.zeros(N_M)\n",
    "            for j in range(N_M):\n",
    "                somme = fct(Mus[:,j], K = K)\n",
    "                #Newmark sol:\n",
    "                y_new, t = newmark(N_h, N_h, somme, h, h)\n",
    "                #Exact sol: \n",
    "                uex = sol_given_fct2(somme)\n",
    "                y_ex = (np.vectorize(uex))(H,t)\n",
    "                #sum over x_j\n",
    "                I_Ns[j] = h * np.sum((y_new-y_ex)**2)\n",
    "            #approximation of the integral:\n",
    "            integral_trials[i] = (b-a)**N_mu*np.mean(I_Ns) #(b-a) to the power N_mu because we integrate over a to b, N_mu times.\n",
    "    #mean over N_trials:\n",
    "        err[l, k] = np.mean(integral_trials)\n",
    "    print(\"err : \", err[l])\n",
    "\n"
   ]
  },
  {
   "cell_type": "code",
   "execution_count": 4,
   "metadata": {},
   "outputs": [],
   "source": [
    "np.savetxt(PATH_SAVE + \"/N_hs.dat\", np.array(N_hs))\n",
    "np.savetxt(PATH_SAVE + \"/N_Ms.dat\", np.array(N_Ms))\n",
    "np.savetxt(PATH_SAVE + \"/err_N_mu= \" + str(N_mu) + \".dat\", np.array(err))"
   ]
  },
  {
   "cell_type": "code",
   "execution_count": 5,
   "metadata": {},
   "outputs": [
    {
     "name": "stdout",
     "output_type": "stream",
     "text": [
      "\\begin{tabular}{lll}\n",
      "\\toprule\n",
      "    h &  N\\_M &    Error \\\\\n",
      "\\midrule\n",
      "0.050 &   10 & 1.26E-31 \\\\\n",
      "0.050 &  100 & 1.30E-31 \\\\\n",
      "0.050 &  500 & 1.17E-31 \\\\\n",
      "0.050 & 1000 & 1.25E-31 \\\\\n",
      "0.033 &   10 & 3.39E-31 \\\\\n",
      "0.033 &  100 & 2.67E-31 \\\\\n",
      "0.033 &  500 & 2.61E-31 \\\\\n",
      "0.033 & 1000 & 2.75E-31 \\\\\n",
      "0.025 &   10 & 8.85E-31 \\\\\n",
      "0.025 &  100 & 5.80E-31 \\\\\n",
      "0.025 &  500 & 5.45E-31 \\\\\n",
      "0.025 & 1000 & 5.09E-31 \\\\\n",
      "0.020 &   10 & 8.01E-31 \\\\\n",
      "0.020 &  100 & 8.07E-31 \\\\\n",
      "0.020 &  500 & 9.73E-31 \\\\\n",
      "0.020 & 1000 & 9.10E-31 \\\\\n",
      "0.017 &   10 & 1.14E-30 \\\\\n",
      "0.017 &  100 & 1.57E-30 \\\\\n",
      "0.017 &  500 & 1.55E-30 \\\\\n",
      "0.017 & 1000 & 1.61E-30 \\\\\n",
      "\\bottomrule\n",
      "\\end{tabular}\n",
      "\n"
     ]
    },
    {
     "data": {
      "image/png": "[encoded data removed]",
      "text/plain": [
       "<Figure size 432x288 with 1 Axes>"
      ]
     },
     "metadata": {
      "needs_background": "light"
     },
     "output_type": "display_data"
    }
   ],
   "source": [
    "N_mu = 1\n",
    "N_hs = np.genfromtxt(PATH_SAVE + \"/N_hs.dat\")\n",
    "N_Ms = np.genfromtxt(PATH_SAVE + \"/N_Ms.dat\")\n",
    "err = np.genfromtxt(PATH_SAVE + \"/err_N_mu= \" + str(N_mu) + \".dat\")\n",
    "hs = 1/(N_hs + 1)\n",
    "\n",
    "#create data\n",
    "latex = to_latex(N_hs, N_Ms, err)\n",
    "print(latex)\n",
    "\n",
    "\n",
    "\n",
    "legend = []\n",
    "colors = ['#1f77b4', '#ff7f0e', '#2ca02c', '#d62728', '#9467bd', '#8c564b', '#e377c2', '#7f7f7f', '#bcbd22', '#17becf']\n",
    "custom_lines = []\n",
    "\n",
    "plt.yscale('log')\n",
    "plt.xscale('log')\n",
    "\n",
    "for i in range(len(N_Ms)):\n",
    "    plt.plot(N_hs, err[:, i], '-x', color = colors[i])\n",
    "    plt.yscale('log')\n",
    "    plt.xscale('log')\n",
    "    custom_lines.append(Line2D([0], [0], color=colors[i]))\n",
    "    legend.append(r\"$N_\\mu = $\" + str(N_mu) + r\", $N_M$ = \" + str(int(N_Ms[i])))\n",
    "\n",
    "plt.plot(N_hs, 1/N_hs**4, color = colors[i+1])\n",
    "custom_lines.append(Line2D([0], [0], color=colors[i+1]))\n",
    "legend.append(r\"$1/N_h^4$\")\n",
    "plt.legend(custom_lines, legend, bbox_to_anchor=(1.04,1.02))\n",
    "plt.show()"
   ]
  },
  {
   "cell_type": "markdown",
   "metadata": {},
   "source": [
    "# We verify that the convergence is respect for different number of parameters (vary N_mu)"
   ]
  },
  {
   "cell_type": "code",
   "execution_count": 7,
   "metadata": {},
   "outputs": [
    {
     "name": "stdout",
     "output_type": "stream",
     "text": [
      "N_mu :  1\n",
      "N_h =  19.0 h =  0.05 , N_M =  10.0\n",
      "N_h =  19.0 h =  0.05 , N_M =  100.0\n",
      "N_h =  19.0 h =  0.05 , N_M =  500.0\n",
      "N_h =  19.0 h =  0.05 , N_M =  1000.0\n",
      "err :  [6.18797830e-32 5.71768289e-32 6.55660946e-32 6.37832333e-32]\n",
      "N_h =  29.0 h =  0.03333333333333333 , N_M =  10.0\n",
      "N_h =  29.0 h =  0.03333333333333333 , N_M =  100.0\n",
      "N_h =  29.0 h =  0.03333333333333333 , N_M =  500.0\n",
      "N_h =  29.0 h =  0.03333333333333333 , N_M =  1000.0\n",
      "err :  [1.65428892e-31 1.19794773e-31 1.32708368e-31 1.35644729e-31]\n",
      "N_h =  39.0 h =  0.025 , N_M =  10.0\n",
      "N_h =  39.0 h =  0.025 , N_M =  100.0\n",
      "N_h =  39.0 h =  0.025 , N_M =  500.0\n",
      "N_h =  39.0 h =  0.025 , N_M =  1000.0\n",
      "err :  [2.81018225e-31 3.07954176e-31 2.33073597e-31 2.63711272e-31]\n",
      "N_h =  49.0 h =  0.02 , N_M =  10.0\n",
      "N_h =  49.0 h =  0.02 , N_M =  100.0\n",
      "N_h =  49.0 h =  0.02 , N_M =  500.0\n",
      "N_h =  49.0 h =  0.02 , N_M =  1000.0\n",
      "err :  [2.27645390e-31 4.12287684e-31 4.92337869e-31 5.01486442e-31]\n",
      "N_h =  59.0 h =  0.016666666666666666 , N_M =  10.0\n",
      "N_h =  59.0 h =  0.016666666666666666 , N_M =  100.0\n",
      "N_h =  59.0 h =  0.016666666666666666 , N_M =  500.0\n",
      "N_h =  59.0 h =  0.016666666666666666 , N_M =  1000.0\n",
      "err :  [1.13083720e-30 9.89328339e-31 7.91731598e-31 7.21221532e-31]\n",
      "N_mu :  5\n",
      "N_h =  19.0 h =  0.05 , N_M =  10.0\n",
      "N_h =  19.0 h =  0.05 , N_M =  100.0\n",
      "N_h =  19.0 h =  0.05 , N_M =  500.0\n",
      "N_h =  19.0 h =  0.05 , N_M =  1000.0\n",
      "err :  [4.54765061e-32 6.25134558e-32 6.93195667e-32 6.60393352e-32]\n",
      "N_h =  29.0 h =  0.03333333333333333 , N_M =  10.0\n",
      "N_h =  29.0 h =  0.03333333333333333 , N_M =  100.0\n",
      "N_h =  29.0 h =  0.03333333333333333 , N_M =  500.0\n",
      "N_h =  29.0 h =  0.03333333333333333 , N_M =  1000.0\n",
      "err :  [1.38165220e-31 1.58337991e-31 1.43176242e-31 1.38523447e-31]\n",
      "N_h =  39.0 h =  0.025 , N_M =  10.0\n",
      "N_h =  39.0 h =  0.025 , N_M =  100.0\n",
      "N_h =  39.0 h =  0.025 , N_M =  500.0\n",
      "N_h =  39.0 h =  0.025 , N_M =  1000.0\n",
      "err :  [3.56317019e-31 2.94672024e-31 2.75307848e-31 2.71293310e-31]\n",
      "N_h =  49.0 h =  0.02 , N_M =  10.0\n",
      "N_h =  49.0 h =  0.02 , N_M =  100.0\n",
      "N_h =  49.0 h =  0.02 , N_M =  500.0\n",
      "N_h =  49.0 h =  0.02 , N_M =  1000.0\n",
      "err :  [5.78901543e-31 5.24662859e-31 4.82374894e-31 5.00331322e-31]\n",
      "N_h =  59.0 h =  0.016666666666666666 , N_M =  10.0\n",
      "N_h =  59.0 h =  0.016666666666666666 , N_M =  100.0\n",
      "N_h =  59.0 h =  0.016666666666666666 , N_M =  500.0\n",
      "N_h =  59.0 h =  0.016666666666666666 , N_M =  1000.0\n",
      "err :  [7.10379128e-31 9.71652231e-31 7.28559594e-31 8.64575999e-31]\n",
      "N_mu :  10\n",
      "N_h =  19.0 h =  0.05 , N_M =  10.0\n",
      "N_h =  19.0 h =  0.05 , N_M =  100.0\n",
      "N_h =  19.0 h =  0.05 , N_M =  500.0\n",
      "N_h =  19.0 h =  0.05 , N_M =  1000.0\n",
      "err :  [5.59587672e-32 7.90264959e-32 7.12115018e-32 7.00762596e-32]\n",
      "N_h =  29.0 h =  0.03333333333333333 , N_M =  10.0\n",
      "N_h =  29.0 h =  0.03333333333333333 , N_M =  100.0\n",
      "N_h =  29.0 h =  0.03333333333333333 , N_M =  500.0\n",
      "N_h =  29.0 h =  0.03333333333333333 , N_M =  1000.0\n",
      "err :  [1.14480141e-31 1.23988792e-31 1.43197723e-31 1.52146398e-31]\n",
      "N_h =  39.0 h =  0.025 , N_M =  10.0\n",
      "N_h =  39.0 h =  0.025 , N_M =  100.0\n",
      "N_h =  39.0 h =  0.025 , N_M =  500.0\n",
      "N_h =  39.0 h =  0.025 , N_M =  1000.0\n",
      "err :  [3.38061342e-31 2.95828561e-31 2.76452426e-31 2.65370996e-31]\n",
      "N_h =  49.0 h =  0.02 , N_M =  10.0\n",
      "N_h =  49.0 h =  0.02 , N_M =  100.0\n",
      "N_h =  49.0 h =  0.02 , N_M =  500.0\n",
      "N_h =  49.0 h =  0.02 , N_M =  1000.0\n",
      "err :  [3.25810601e-31 5.57604636e-31 4.80879990e-31 4.87902904e-31]\n",
      "N_h =  59.0 h =  0.016666666666666666 , N_M =  10.0\n",
      "N_h =  59.0 h =  0.016666666666666666 , N_M =  100.0\n",
      "N_h =  59.0 h =  0.016666666666666666 , N_M =  500.0\n",
      "N_h =  59.0 h =  0.016666666666666666 , N_M =  1000.0\n",
      "err :  [8.25120957e-31 7.89669302e-31 7.99310134e-31 8.38783980e-31]\n",
      "N_mu :  15\n",
      "N_h =  19.0 h =  0.05 , N_M =  10.0\n",
      "N_h =  19.0 h =  0.05 , N_M =  100.0\n",
      "N_h =  19.0 h =  0.05 , N_M =  500.0\n",
      "N_h =  19.0 h =  0.05 , N_M =  1000.0\n",
      "err :  [6.44042409e-32 7.00491120e-32 7.27077171e-32 7.00621919e-32]\n",
      "N_h =  29.0 h =  0.03333333333333333 , N_M =  10.0\n",
      "N_h =  29.0 h =  0.03333333333333333 , N_M =  100.0\n",
      "N_h =  29.0 h =  0.03333333333333333 , N_M =  500.0\n",
      "N_h =  29.0 h =  0.03333333333333333 , N_M =  1000.0\n",
      "err :  [1.06081469e-31 1.43096666e-31 1.51856722e-31 1.49476149e-31]\n",
      "N_h =  39.0 h =  0.025 , N_M =  10.0\n",
      "N_h =  39.0 h =  0.025 , N_M =  100.0\n",
      "N_h =  39.0 h =  0.025 , N_M =  500.0\n",
      "N_h =  39.0 h =  0.025 , N_M =  1000.0\n",
      "err :  [3.60058172e-31 2.77386040e-31 2.86935776e-31 2.90171977e-31]\n",
      "N_h =  49.0 h =  0.02 , N_M =  10.0\n",
      "N_h =  49.0 h =  0.02 , N_M =  100.0\n",
      "N_h =  49.0 h =  0.02 , N_M =  500.0\n",
      "N_h =  49.0 h =  0.02 , N_M =  1000.0\n",
      "err :  [4.03531851e-31 4.62330674e-31 5.04371605e-31 4.99448689e-31]\n",
      "N_h =  59.0 h =  0.016666666666666666 , N_M =  10.0\n",
      "N_h =  59.0 h =  0.016666666666666666 , N_M =  100.0\n",
      "N_h =  59.0 h =  0.016666666666666666 , N_M =  500.0\n",
      "N_h =  59.0 h =  0.016666666666666666 , N_M =  1000.0\n",
      "err :  [5.48166284e-31 7.15782001e-31 7.50653981e-31 7.84602925e-31]\n",
      "N_mu :  20\n",
      "N_h =  19.0 h =  0.05 , N_M =  10.0\n",
      "N_h =  19.0 h =  0.05 , N_M =  100.0\n",
      "N_h =  19.0 h =  0.05 , N_M =  500.0\n",
      "N_h =  19.0 h =  0.05 , N_M =  1000.0\n",
      "err :  [2.95859552e-32 6.82934212e-32 7.58153678e-32 6.94323386e-32]\n",
      "N_h =  29.0 h =  0.03333333333333333 , N_M =  10.0\n",
      "N_h =  29.0 h =  0.03333333333333333 , N_M =  100.0\n",
      "N_h =  29.0 h =  0.03333333333333333 , N_M =  500.0\n",
      "N_h =  29.0 h =  0.03333333333333333 , N_M =  1000.0\n",
      "err :  [2.37902291e-31 1.34940486e-31 1.57566409e-31 1.52419822e-31]\n",
      "N_h =  39.0 h =  0.025 , N_M =  10.0\n",
      "N_h =  39.0 h =  0.025 , N_M =  100.0\n",
      "N_h =  39.0 h =  0.025 , N_M =  500.0\n",
      "N_h =  39.0 h =  0.025 , N_M =  1000.0\n",
      "err :  [2.00648148e-31 2.67617727e-31 2.78734755e-31 2.77525876e-31]\n",
      "N_h =  49.0 h =  0.02 , N_M =  10.0\n",
      "N_h =  49.0 h =  0.02 , N_M =  100.0\n",
      "N_h =  49.0 h =  0.02 , N_M =  500.0\n",
      "N_h =  49.0 h =  0.02 , N_M =  1000.0\n",
      "err :  [6.98844752e-31 4.66946709e-31 5.81638000e-31 5.59481582e-31]\n",
      "N_h =  59.0 h =  0.016666666666666666 , N_M =  10.0\n",
      "N_h =  59.0 h =  0.016666666666666666 , N_M =  100.0\n",
      "N_h =  59.0 h =  0.016666666666666666 , N_M =  500.0\n",
      "N_h =  59.0 h =  0.016666666666666666 , N_M =  1000.0\n",
      "err :  [4.94475994e-31 6.43564700e-31 8.48619927e-31 7.74386217e-31]\n",
      "N_mu :  25\n",
      "N_h =  19.0 h =  0.05 , N_M =  10.0\n",
      "N_h =  19.0 h =  0.05 , N_M =  100.0\n",
      "N_h =  19.0 h =  0.05 , N_M =  500.0\n",
      "N_h =  19.0 h =  0.05 , N_M =  1000.0\n",
      "err :  [7.04134434e-32 6.73525809e-32 7.42144882e-32 7.61065508e-32]\n",
      "N_h =  29.0 h =  0.03333333333333333 , N_M =  10.0\n",
      "N_h =  29.0 h =  0.03333333333333333 , N_M =  100.0\n",
      "N_h =  29.0 h =  0.03333333333333333 , N_M =  500.0\n",
      "N_h =  29.0 h =  0.03333333333333333 , N_M =  1000.0\n",
      "err :  [2.25323554e-31 1.55621018e-31 1.40687216e-31 1.48140319e-31]\n",
      "N_h =  39.0 h =  0.025 , N_M =  10.0\n",
      "N_h =  39.0 h =  0.025 , N_M =  100.0\n",
      "N_h =  39.0 h =  0.025 , N_M =  500.0\n",
      "N_h =  39.0 h =  0.025 , N_M =  1000.0\n",
      "err :  [3.35448765e-31 3.11234162e-31 2.97549162e-31 2.98976287e-31]\n",
      "N_h =  49.0 h =  0.02 , N_M =  10.0\n",
      "N_h =  49.0 h =  0.02 , N_M =  100.0\n",
      "N_h =  49.0 h =  0.02 , N_M =  500.0\n",
      "N_h =  49.0 h =  0.02 , N_M =  1000.0\n",
      "err :  [4.34327784e-31 5.47646100e-31 4.98023232e-31 5.00658563e-31]\n",
      "N_h =  59.0 h =  0.016666666666666666 , N_M =  10.0\n",
      "N_h =  59.0 h =  0.016666666666666666 , N_M =  100.0\n",
      "N_h =  59.0 h =  0.016666666666666666 , N_M =  500.0\n",
      "N_h =  59.0 h =  0.016666666666666666 , N_M =  1000.0\n",
      "err :  [9.64592338e-31 8.33553100e-31 7.94878251e-31 8.30891966e-31]\n"
     ]
    }
   ],
   "source": [
    "N_mus = [1, 5, 10, 15, 20, 25]\n",
    "trials = 1\n",
    "for l, N_mu in enumerate(N_mus):\n",
    "    print(\"N_mu : \", N_mu)\n",
    "    err = np.zeros((len(N_hs), len(N_Ms)))\n",
    "    for l, N_h in enumerate(N_hs):\n",
    "        h = 1/(N_h + 1)\n",
    "        H = np.arange(1, N_h+1)*h\n",
    "        for k, N_M in enumerate(N_Ms):\n",
    "            print(\"N_h = \", N_h, \"h = \", h, \", N_M = \", N_M)\n",
    "            integral_trials = np.zeros(trials)\n",
    "            for i in range(trials):\n",
    "                Mus = np.random.uniform(low = -1, high = 1, size = (int(N_mu), int(N_M)))\n",
    "                I_Ns = np.zeros(int(N_M))\n",
    "                for j in range(int(N_M)):\n",
    "                    somme = fct(Mus[:,j], K)\n",
    "                    #Newmark sol:\n",
    "                    y_new, t = newmark(int(N_h), int(N_h), somme, h, h)\n",
    "                    #Exact sol: \n",
    "                    uex = sol_given_fct2(somme)\n",
    "                    y_ex = (np.vectorize(uex))(H,t)\n",
    "                    #sum over x_j\n",
    "                    I_Ns[j] = h * np.sum(((y_new-y_ex)**2))\n",
    "                #approximation of the integral:\n",
    "                integral_trials[i] = np.mean(I_Ns) #(b-a) to the power N_mu because we integrate over a to b, N_mu times.\n",
    "        #mean over N_trials:\n",
    "            err[l, k] = np.mean(integral_trials)\n",
    "        print(\"err : \", err[l])\n",
    "\n",
    "    np.savetxt(PATH_SAVE + \"/err_N_mu= \" + str(N_mu) + \".dat\", np.array(err))\n",
    "    "
   ]
  },
  {
   "cell_type": "code",
   "execution_count": 8,
   "metadata": {},
   "outputs": [
    {
     "data": {
      "image/png": "[encoded data removed]",
      "text/plain": [
       "<Figure size 360x288 with 1 Axes>"
      ]
     },
     "metadata": {
      "needs_background": "light"
     },
     "output_type": "display_data"
    },
    {
     "name": "stdout",
     "output_type": "stream",
     "text": [
      "[2.58543198 2.46726527 2.48621666 2.28831371 2.34647865 2.40067973]\n"
     ]
    }
   ],
   "source": [
    "N_mus = [1, 5, 10, 15, 20, 25]\n",
    "colors = ['#1f77b4', '#ff7f0e', '#2ca02c', '#d62728', '#9467bd', '#8c564b', '#e377c2', '#7f7f7f', '#bcbd22', '#17becf']\n",
    "legend = []\n",
    "custom_lines = []\n",
    "slopes_N_mu = np.zeros(len(N_mus))\n",
    "fig = plt.figure(figsize=(5, 4))\n",
    "\n",
    "for i, N_mu in enumerate(N_mus):\n",
    "    err = np.genfromtxt(PATH_SAVE + \"/err_N_mu= \" + str(N_mu) + \".dat\")\n",
    "    slopes = np.zeros((len(N_Ms)-1))\n",
    "    for j in range(len(N_Ms)):\n",
    "        plt.plot(N_hs[1:], err[1:, j], '-x', color = colors[i])\n",
    "        if j>0:\n",
    "            slopes[j-1], _= np.polyfit(np.log(N_hs[1:]), np.log(err[1:, j]), 1)\n",
    "        legend.append(r\"$N_\\mu = $\" +  str(N_mu)+ r\", $N_M$ = \" + str(int(N_Ms[j])))\n",
    "        custom_lines.append(Line2D([0], [0], color=colors[i]),)\n",
    "    slopes_N_mu[i] = np.mean(slopes)   \n",
    "\n",
    "plt.plot(N_hs[1:], 100*1/N_hs[1:]**4, color = colors[i+1])\n",
    "plt.plot(N_hs[1:], 10000000000*1/N_hs[1:]**4, color = colors[i+1])\n",
    "legend.append(r\"$1/N_h^4$\")\n",
    "custom_lines.append(Line2D([0], [0], color=colors[i+1]))\n",
    "#to have nice columns: add dummy plots and legends.\n",
    "for i in range(4):\n",
    "    legend.append(\"\")\n",
    "    custom_lines.append(Line2D([0], [0], color='w'))\n",
    "    plt.plot(np.zeros(1), np.zeros([1,3]), color='w', alpha=0, label=' ')\n",
    "\n",
    "plt.yscale('log')\n",
    "plt.xscale('log')\n",
    "#plt.legend(custom_lines, legend, bbox_to_anchor=(0.08,1.), ncol = 7)\n",
    "plt.savefig(fname=\"./Figures/table convergence/K=\" + str(K)  +\"/Newmark_varying_N_mu\")\n",
    "plt.show()\n",
    "print(slopes_N_mu)\n"
   ]
  },
  {
   "cell_type": "markdown",
   "metadata": {},
   "source": [
    "Plot a Newmark approximation : "
   ]
  },
  {
   "cell_type": "code",
   "execution_count": 11,
   "metadata": {},
   "outputs": [
    {
     "name": "stdout",
     "output_type": "stream",
     "text": [
      "integral : 4.240640946881442e-31\n"
     ]
    },
    {
     "data": {
      "text/plain": [
       "[<matplotlib.lines.Line2D at 0x130cec910>]"
      ]
     },
     "execution_count": 11,
     "metadata": {},
     "output_type": "execute_result"
    },
    {
     "data": {
      "image/png": "[encoded data removed]",
      "text/plain": [
       "<Figure size 432x288 with 1 Axes>"
      ]
     },
     "metadata": {
      "needs_background": "light"
     },
     "output_type": "display_data"
    }
   ],
   "source": [
    "K=2\n",
    "N_mu = 25\n",
    "N_h = 29\n",
    "h = 1/(N_h + 1)\n",
    "H = np.arange(1, N_h+1)*h\n",
    "Mus = np.random.uniform(low = -1, high = 1, size = (int(N_mu)))\n",
    "somme = fct(Mus, K)\n",
    "#Newmark sol:\n",
    "y_new, t = newmark(int(N_h), int(N_h), somme, h, h)\n",
    "#Exact sol: \n",
    "uex = sol_given_fct2(somme)\n",
    "y_ex = (np.vectorize(uex))(H,t)\n",
    "\n",
    "integral = h * np.sum((y_new-y_ex)**2)\n",
    "print(\"integral :\", integral)\n",
    "\n",
    "plt.plot(y_new, '-x')\n",
    "plt.plot(y_ex)"
   ]
  },
  {
   "cell_type": "code",
   "execution_count": null,
   "metadata": {},
   "outputs": [],
   "source": []
  }
 ],
 "metadata": {
  "interpreter": {
   "hash": "6aa7871422cbf9296a09eca5272ae12f42feac121f15077f0682f5d4affb8114"
  },
  "kernelspec": {
   "display_name": "Python 3.9.10 ('pytorch')",
   "language": "python",
   "name": "python3"
  },
  "language_info": {
   "codemirror_mode": {
    "name": "ipython",
    "version": 3
   },
   "file_extension": ".py",
   "mimetype": "text/x-python",
   "name": "python",
   "nbconvert_exporter": "python",
   "pygments_lexer": "ipython3",
   "version": "3.9.10"
  },
  "orig_nbformat": 4
 },
 "nbformat": 4,
 "nbformat_minor": 2
}
