{
 "cells": [
  {
   "cell_type": "markdown",
   "metadata": {},
   "source": [
    "# 4.4 Convergence of $\\frac{1}{N_{M}} \\left \\Vert \\mathbf{u}(\\boldsymbol{\\mu}) - \\mathbf{u}_{DNN}(\\boldsymbol{\\mu}; \\tilde{\\boldsymbol{\\Theta}})\\right \\Vert ^2$\n",
    "## trains the models. "
   ]
  },
  {
   "cell_type": "code",
   "execution_count": 1,
   "metadata": {},
   "outputs": [],
   "source": [
    "import numpy as np\n",
    "import matplotlib.pyplot as plt\n",
    "from functions import *\n",
    "import torch\n",
    "import torch.optim as optim\n",
    "from torch.utils.data import Dataset, DataLoader\n",
    "\n",
    "K=2\n",
    "N_x = 20000 #number of samples\n",
    "N_mus = [5, 10, 15, 20, 25] #number of parameters\n",
    " \n",
    "N_n = 10 #number of neurons\n",
    "N_HL = 2\n",
    "lr = 5*1e-4\n",
    "\n",
    "# we will use Mean Squared Error (MSE) as our loss function.\n",
    "loss_fn = torch.nn.MSELoss()\n",
    "\n"
   ]
  },
  {
   "cell_type": "code",
   "execution_count": 2,
   "metadata": {},
   "outputs": [],
   "source": [
    "N_hs = np.array([19, 29, 39, 49, 59])\n",
    "num_epochs=50\n",
    "batch_size=16\n",
    "PATH_SAVE = \"./table_convergence/NN\"\n"
   ]
  },
  {
   "cell_type": "code",
   "execution_count": 3,
   "metadata": {},
   "outputs": [
    {
     "name": "stdout",
     "output_type": "stream",
     "text": [
      "K =  2\n",
      "starts with N_h =  19\n",
      "x shape :  (20000, 10)\n",
      "y shape :  (20000, 19)\n",
      "training...\n",
      "starts with N_h =  29\n",
      "x shape :  (20000, 10)\n",
      "y shape :  (20000, 29)\n",
      "training...\n",
      "starts with N_h =  39\n",
      "x shape :  (20000, 10)\n",
      "y shape :  (20000, 39)\n",
      "training...\n",
      "starts with N_h =  49\n",
      "x shape :  (20000, 10)\n",
      "y shape :  (20000, 49)\n",
      "training...\n",
      "starts with N_h =  59\n",
      "x shape :  (20000, 10)\n",
      "y shape :  (20000, 59)\n",
      "training...\n",
      "starts with N_h =  19\n",
      "x shape :  (20000, 15)\n",
      "y shape :  (20000, 19)\n",
      "training...\n",
      "starts with N_h =  29\n",
      "x shape :  (20000, 15)\n",
      "y shape :  (20000, 29)\n",
      "training...\n",
      "starts with N_h =  39\n",
      "x shape :  (20000, 15)\n",
      "y shape :  (20000, 39)\n",
      "training...\n",
      "starts with N_h =  49\n",
      "x shape :  (20000, 15)\n",
      "y shape :  (20000, 49)\n",
      "training...\n",
      "starts with N_h =  59\n",
      "x shape :  (20000, 15)\n",
      "y shape :  (20000, 59)\n",
      "training...\n",
      "starts with N_h =  19\n",
      "x shape :  (20000, 20)\n",
      "y shape :  (20000, 19)\n",
      "training...\n",
      "starts with N_h =  29\n",
      "x shape :  (20000, 20)\n",
      "y shape :  (20000, 29)\n",
      "training...\n",
      "starts with N_h =  39\n",
      "x shape :  (20000, 20)\n",
      "y shape :  (20000, 39)\n",
      "training...\n",
      "starts with N_h =  49\n",
      "x shape :  (20000, 20)\n",
      "y shape :  (20000, 49)\n",
      "training...\n",
      "starts with N_h =  59\n",
      "x shape :  (20000, 20)\n",
      "y shape :  (20000, 59)\n",
      "training...\n",
      "starts with N_h =  19\n",
      "x shape :  (20000, 25)\n",
      "y shape :  (20000, 19)\n",
      "training...\n",
      "starts with N_h =  29\n",
      "x shape :  (20000, 25)\n",
      "y shape :  (20000, 29)\n",
      "training...\n",
      "starts with N_h =  39\n",
      "x shape :  (20000, 25)\n",
      "y shape :  (20000, 39)\n",
      "training...\n",
      "starts with N_h =  49\n",
      "x shape :  (20000, 25)\n",
      "y shape :  (20000, 49)\n",
      "training...\n",
      "starts with N_h =  59\n",
      "x shape :  (20000, 25)\n",
      "y shape :  (20000, 59)\n",
      "training...\n"
     ]
    }
   ],
   "source": [
    "print(\"K = \", K)\n",
    "for N_mu in N_mus:\n",
    "    for k, N_h in enumerate(N_hs):\n",
    "        print(\"starts with N_h = \", N_h)\n",
    "        dataset=Inputs(N_x, N_mu, N_h, K=K)\n",
    "        model = Net(N_HL, N_n, N_h, N_mu)\n",
    "        dataloader = DataLoader(dataset = dataset, batch_size=batch_size, shuffle=True, num_workers=0)\n",
    "        optimizer = optim.Adam(model.parameters(), lr=lr)\n",
    "\n",
    "        #training: \n",
    "        print(\"training...\")\n",
    "        for t in range(num_epochs):\n",
    "            for i, (inputs, outputs) in enumerate(dataloader):\n",
    "                y_pred = model(inputs)\n",
    "                loss = loss_fn(y_pred, outputs) #compute the loss\n",
    "\n",
    "                optimizer.zero_grad()   # zero the gradient buffers\n",
    "                loss.backward()\n",
    "                    \n",
    "                optimizer.step()    # Does the update\n",
    "        PATH = PATH_SAVE + \"/K = \" + str(K) + \"_model_N_h= \" + str(N_h) + \"_N_mu=\" + str(N_mu) + '.pth'\n",
    "        torch.save(model.state_dict(), PATH)\n",
    "\n"
   ]
  },
  {
   "cell_type": "markdown",
   "metadata": {},
   "source": [
    "# Plot solution"
   ]
  },
  {
   "cell_type": "code",
   "execution_count": 9,
   "metadata": {},
   "outputs": [
    {
     "data": {
      "text/plain": [
       "<matplotlib.legend.Legend at 0x12646da60>"
      ]
     },
     "execution_count": 9,
     "metadata": {},
     "output_type": "execute_result"
    },
    {
     "data": {
      "image/png": "[encoded data removed]",
      "text/plain": [
       "<Figure size 432x288 with 1 Axes>"
      ]
     },
     "metadata": {
      "needs_background": "light"
     },
     "output_type": "display_data"
    }
   ],
   "source": [
    "N_mu = 5\n",
    "N_h = 39\n",
    "model = Net(N_HL, N_n, N_h, N_mu)\n",
    "PATH = PATH_SAVE + \"/K = \" + str(K) + \"_model_N_h= \" + str(N_h) + \"_N_mu=\" + str(N_mu) + '.pth'\n",
    "model.load_state_dict(torch.load(PATH))\n",
    "\n",
    "Mus = np.random.uniform(low = -1, high = 1, size = (int(N_mu)))\n",
    "somme = fct(Mus, K)\n",
    "\n",
    "h = 1/(N_h + 1)\n",
    "H = np.arange(1, N_h+1)*h\n",
    "\n",
    "#DNN sol:\n",
    "x = torch.from_numpy(Mus).float()\n",
    "y_DNN = model(x)\n",
    "#Newmark sol:\n",
    "y_new, t = newmark(int(N_h), int(N_h), somme, h, h)\n",
    "#Exact sol: \n",
    "uex = sol_given_fct2(somme)\n",
    "y_ex = (np.vectorize(uex))(H,t)\n",
    "\n",
    "#plot\n",
    "plt.plot(H, y_new, '-x')\n",
    "plt.plot(H, y_DNN.detach().numpy(), '-+')\n",
    "plt.plot(H, y_ex)\n",
    "plt.legend([\"Newmark\", \"DNN\", \"exact\"])\n"
   ]
  },
  {
   "cell_type": "code",
   "execution_count": null,
   "metadata": {},
   "outputs": [],
   "source": []
  }
 ],
 "metadata": {
  "interpreter": {
   "hash": "6aa7871422cbf9296a09eca5272ae12f42feac121f15077f0682f5d4affb8114"
  },
  "kernelspec": {
   "display_name": "Python 3.9.10 ('pytorch')",
   "language": "python",
   "name": "python3"
  },
  "language_info": {
   "codemirror_mode": {
    "name": "ipython",
    "version": 3
   },
   "file_extension": ".py",
   "mimetype": "text/x-python",
   "name": "python",
   "nbconvert_exporter": "python",
   "pygments_lexer": "ipython3",
   "version": "3.9.10"
  },
  "orig_nbformat": 4
 },
 "nbformat": 4,
 "nbformat_minor": 2
}
