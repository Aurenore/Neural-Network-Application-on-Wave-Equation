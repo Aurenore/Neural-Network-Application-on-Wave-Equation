{
 "cells": [
  {
   "cell_type": "markdown",
   "metadata": {},
   "source": [
    "# Table of convergence\n",
    "We compute the integral WRT x by the neural network and the integral WRT mu with Monte-Carlo, more precisely, we compute 1/N_M * 1/(N_h+1) * sum_i sum_j (u_NN(x_j, mu_i) - u_ex(x_j, mu_i))^2\n"
   ]
  },
  {
   "cell_type": "code",
   "execution_count": 19,
   "metadata": {},
   "outputs": [
    {
     "name": "stdout",
     "output_type": "stream",
     "text": [
      "[19 29 39 49 59]\n",
      "[  10  100 1000]\n"
     ]
    }
   ],
   "source": [
    "import numpy as np\n",
    "import matplotlib.pyplot as plt\n",
    "from matplotlib.lines import Line2D\n",
    "from functions import *\n",
    "from time import perf_counter\n",
    "\n",
    "K = 2\n",
    "a = -1\n",
    "b = 1\n",
    "\n",
    "\n",
    "PATH_SAVE = \"./grid_K=2/table_convergence/NN\"\n",
    "\n",
    "N_n = 10 #number of neurons\n",
    "N_HL = 2\n",
    "lr = 5*1e-4\n",
    "\n",
    "N_hs = np.array([19, 29, 39, 49, 59])\n",
    "N_Ms = np.array([10, 100, 1000])\n",
    "print(N_hs)\n",
    "print(N_Ms)"
   ]
  },
  {
   "cell_type": "markdown",
   "metadata": {},
   "source": [
    "N_mu = 5"
   ]
  },
  {
   "cell_type": "code",
   "execution_count": 13,
   "metadata": {},
   "outputs": [
    {
     "name": "stdout",
     "output_type": "stream",
     "text": [
      "N_h =  19 h =  0.05 , N_M =  10\n",
      "N_h =  19 h =  0.05 , N_M =  100\n",
      "N_h =  19 h =  0.05 , N_M =  1000\n",
      "2\n",
      "err :  [1.75615615e-07 1.64303776e-07 1.79941425e-07]\n",
      "N_h =  29 h =  0.03333333333333333 , N_M =  10\n",
      "N_h =  29 h =  0.03333333333333333 , N_M =  100\n",
      "N_h =  29 h =  0.03333333333333333 , N_M =  1000\n",
      "2\n",
      "err :  [1.86865861e-07 1.98795427e-07 2.02078218e-07]\n",
      "N_h =  39 h =  0.025 , N_M =  10\n",
      "N_h =  39 h =  0.025 , N_M =  100\n",
      "N_h =  39 h =  0.025 , N_M =  1000\n",
      "2\n",
      "err :  [4.32425089e-10 2.71188574e-09 3.54726531e-09]\n",
      "N_h =  49 h =  0.02 , N_M =  10\n",
      "N_h =  49 h =  0.02 , N_M =  100\n",
      "N_h =  49 h =  0.02 , N_M =  1000\n",
      "2\n",
      "err :  [1.39317953e-08 1.36304730e-08 3.16260196e-08]\n",
      "N_h =  59 h =  0.016666666666666666 , N_M =  10\n",
      "N_h =  59 h =  0.016666666666666666 , N_M =  100\n",
      "N_h =  59 h =  0.016666666666666666 , N_M =  1000\n",
      "2\n",
      "err :  [1.06410359e-06 1.02584412e-06 1.03565394e-06]\n"
     ]
    }
   ],
   "source": [
    "N_mu = 5\n",
    "trials = 10\n",
    "err = np.zeros((len(N_hs), len(N_Ms)))\n",
    "time_NN_mean=np.zeros(len(N_hs))\n",
    "time_New_mean=np.zeros(len(N_hs))\n",
    "\n",
    "for l, N_h in enumerate(N_hs):\n",
    "    h = 1/(N_h + 1)\n",
    "    H = np.arange(1, N_h+1)*h\n",
    "    net=Net(N_HL, N_n, N_h, N_mu).double()\n",
    "\n",
    "    PATH_model = PATH_SAVE + \"/K = \" + str(K) + \"_model_N_h= \" + str(N_h) + \"_N_mu=\" + str(N_mu) + '.pth'\n",
    "    net.load_state_dict(torch.load(PATH_model))\n",
    "\n",
    "    \n",
    "    for k, N_M in enumerate(N_Ms):\n",
    "        print(\"N_h = \", N_h, \"h = \", h, \", N_M = \", N_M)\n",
    "        integral_trials = np.zeros(trials)\n",
    "        compute_time = False\n",
    "        if k > len(N_Ms)-2:\n",
    "            compute_time = True\n",
    "            time_NN = np.zeros((trials, N_Ms[-1]))\n",
    "            time_New = np.zeros((trials, N_Ms[-1]))\n",
    "\n",
    "        for i in range(trials):\n",
    "            Mus = np.random.uniform(low = -1, high = 1, size = (N_mu, N_M))\n",
    "            I_Ns = np.zeros(N_M)\n",
    "            for j in range(N_M):\n",
    "                somme = fct(Mus[:,j], K)\n",
    "                #NN sol:\n",
    "                if compute_time == True:\n",
    "                    time_start = perf_counter()\n",
    "                y_pred = net((torch.from_numpy(Mus[:,j]))) \n",
    "                if compute_time == True:\n",
    "                    time_end = perf_counter()\n",
    "                    time_NN[i, j] = time_end - time_start\n",
    "\n",
    "                #Newmark sol:\n",
    "                if compute_time == True:\n",
    "                    time_start = perf_counter()\n",
    "                y_new, t = newmark(N_h, N_h, somme, h, h)\n",
    "                if compute_time == True:\n",
    "                    time_end = perf_counter()\n",
    "                    time_New[i, j] = time_end - time_start\n",
    "\n",
    "                #Exact sol: \n",
    "                uex = sol_given_fct2(somme)\n",
    "                y_ex = (np.vectorize(uex))(H,t)\n",
    "\n",
    "                #sum over x_j (except the last component)\n",
    "                I_Ns[j] = h * np.sum(((y_pred.detach().numpy()-y_ex)[:-1])**2)\n",
    "            #approximation of the integral:\n",
    "            integral_trials[i] = np.mean(I_Ns) \n",
    "        #mean over N_trials:\n",
    "        err[l, k] = np.mean(integral_trials)\n",
    "\n",
    "    #save the mean time to compute the solutions:\n",
    "    time_NN_mean[l] = np.mean(time_NN)\n",
    "    time_New_mean[l] = np.mean(time_New)\n",
    "    print(\"err : \", err[l])\n",
    "\n"
   ]
  },
  {
   "cell_type": "code",
   "execution_count": 17,
   "metadata": {},
   "outputs": [],
   "source": [
    "np.savetxt(PATH_SAVE + \"/K = \" + str(K) + \"N_hs.dat\", np.array(N_hs))\n",
    "np.savetxt(PATH_SAVE + \"/K = \" + str(K) + \"N_Ms.dat\", np.array(N_Ms))\n",
    "np.savetxt(PATH_SAVE + \"/K = \" + str(K) + \"err_N_mu= \" + str(N_mu) + \".dat\", np.array(err))\n",
    "np.savetxt(PATH_SAVE + \"/K = \" + str(K) + \"time_NN_N_mu= \" + str(N_mu) + \".dat\", np.array(time_NN_mean))\n",
    "np.savetxt(PATH_SAVE + \"/K = \" + str(K) + \"time_New_N_mu= \" + str(N_mu) + \".dat\", np.array(time_New_mean))"
   ]
  },
  {
   "cell_type": "code",
   "execution_count": 15,
   "metadata": {},
   "outputs": [
    {
     "name": "stdout",
     "output_type": "stream",
     "text": [
      "\\begin{tabular}{lll}\n",
      "\\toprule\n",
      "    h &  N\\_M &    Error \\\\\n",
      "\\midrule\n",
      "0.050 &   10 & 1.76E-07 \\\\\n",
      "0.050 &  100 & 1.64E-07 \\\\\n",
      "0.050 & 1000 & 1.80E-07 \\\\\n",
      "0.033 &   10 & 1.87E-07 \\\\\n",
      "0.033 &  100 & 1.99E-07 \\\\\n",
      "0.033 & 1000 & 2.02E-07 \\\\\n",
      "0.025 &   10 & 4.32E-10 \\\\\n",
      "0.025 &  100 & 2.71E-09 \\\\\n",
      "0.025 & 1000 & 3.55E-09 \\\\\n",
      "0.020 &   10 & 1.39E-08 \\\\\n",
      "0.020 &  100 & 1.36E-08 \\\\\n",
      "0.020 & 1000 & 3.16E-08 \\\\\n",
      "0.017 &   10 & 1.06E-06 \\\\\n",
      "0.017 &  100 & 1.03E-06 \\\\\n",
      "0.017 & 1000 & 1.04E-06 \\\\\n",
      "\\bottomrule\n",
      "\\end{tabular}\n",
      "\n"
     ]
    },
    {
     "data": {
      "image/png": "[encoded data removed]",
      "text/plain": [
       "<Figure size 432x288 with 1 Axes>"
      ]
     },
     "metadata": {
      "needs_background": "light"
     },
     "output_type": "display_data"
    }
   ],
   "source": [
    "N_hs = np.genfromtxt(PATH_SAVE + \"/K = \" + str(K) +\"N_hs.dat\")\n",
    "N_Ms = np.genfromtxt(PATH_SAVE + \"/K = \" + str(K) +\"N_Ms.dat\")\n",
    "err = np.genfromtxt(PATH_SAVE + \"/K = \" + str(K) + \"err_N_mu= \" + str(N_mu) + \".dat\")\n",
    "hs = 1/(N_hs + 1)\n",
    "#create data\n",
    "latex = to_latex(N_hs, N_Ms, err)\n",
    "print(latex) \n",
    "legend = []\n",
    "\n",
    "for i in range(len(N_Ms)):\n",
    "    plt.plot(N_hs, err[:, i], '-x')\n",
    "    plt.yscale('log')\n",
    "    plt.xscale('log')\n",
    "    legend.append(r\"$N_M = $\" +  str(int(N_Ms[i])))\n",
    "\n",
    "plt.legend(legend)\n",
    "#plt.savefig(fname=\"./Figures/table convergence/NN N_mu =\" + str(N_mu) + \" K = \"+ str(K))\n",
    "plt.show()"
   ]
  },
  {
   "cell_type": "markdown",
   "metadata": {},
   "source": [
    "Time taken to compute the solutions"
   ]
  },
  {
   "cell_type": "code",
   "execution_count": 18,
   "metadata": {},
   "outputs": [
    {
     "name": "stdout",
     "output_type": "stream",
     "text": [
      "[0.00025154 0.000194   0.00019335 0.00017715 0.00024158]\n",
      "[0.0010298  0.00184403 0.00315801 0.00456731 0.00690866]\n"
     ]
    }
   ],
   "source": [
    "print(time_NN_mean)\n",
    "print(time_New_mean)"
   ]
  },
  {
   "cell_type": "markdown",
   "metadata": {},
   "source": [
    "# We verify that the convergence is respect for different number of parameters (vary N_mu)"
   ]
  },
  {
   "cell_type": "code",
   "execution_count": 20,
   "metadata": {},
   "outputs": [
    {
     "name": "stdout",
     "output_type": "stream",
     "text": [
      "N_h =  19 h =  0.05 , N_M =  10\n",
      "N_h =  19 h =  0.05 , N_M =  100\n",
      "N_h =  19 h =  0.05 , N_M =  1000\n",
      "2\n",
      "err :  [1.58322835e-05 1.56855728e-05 1.61177375e-05]\n",
      "N_h =  29 h =  0.03333333333333333 , N_M =  10\n",
      "N_h =  29 h =  0.03333333333333333 , N_M =  100\n",
      "N_h =  29 h =  0.03333333333333333 , N_M =  1000\n",
      "2\n",
      "err :  [4.60953240e-05 4.43624608e-05 4.49688296e-05]\n",
      "N_h =  39 h =  0.025 , N_M =  10\n",
      "N_h =  39 h =  0.025 , N_M =  100\n",
      "N_h =  39 h =  0.025 , N_M =  1000\n",
      "2\n",
      "err :  [8.70599243e-05 8.74074295e-05 8.56787598e-05]\n",
      "N_h =  49 h =  0.02 , N_M =  10\n",
      "N_h =  49 h =  0.02 , N_M =  100\n",
      "N_h =  49 h =  0.02 , N_M =  1000\n",
      "2\n",
      "err :  [2.18002763e-05 1.79073974e-05 1.86796712e-05]\n",
      "N_h =  59 h =  0.016666666666666666 , N_M =  10\n",
      "N_h =  59 h =  0.016666666666666666 , N_M =  100\n",
      "N_h =  59 h =  0.016666666666666666 , N_M =  1000\n",
      "2\n",
      "err :  [4.48026713e-05 4.31264830e-05 4.32298857e-05]\n",
      "N_h =  19 h =  0.05 , N_M =  10\n",
      "N_h =  19 h =  0.05 , N_M =  100\n",
      "N_h =  19 h =  0.05 , N_M =  1000\n",
      "2\n",
      "err :  [7.25637960e-05 7.19250827e-05 7.13218616e-05]\n",
      "N_h =  29 h =  0.03333333333333333 , N_M =  10\n",
      "N_h =  29 h =  0.03333333333333333 , N_M =  100\n",
      "N_h =  29 h =  0.03333333333333333 , N_M =  1000\n",
      "2\n",
      "err :  [5.14451668e-05 4.93259534e-05 4.89014591e-05]\n",
      "N_h =  39 h =  0.025 , N_M =  10\n",
      "N_h =  39 h =  0.025 , N_M =  100\n",
      "N_h =  39 h =  0.025 , N_M =  1000\n",
      "2\n",
      "err :  [6.88617509e-05 7.37922629e-05 7.55442989e-05]\n",
      "N_h =  49 h =  0.02 , N_M =  10\n",
      "N_h =  49 h =  0.02 , N_M =  100\n",
      "N_h =  49 h =  0.02 , N_M =  1000\n",
      "2\n",
      "err :  [5.93569947e-05 5.94597242e-05 5.87466695e-05]\n",
      "N_h =  59 h =  0.016666666666666666 , N_M =  10\n",
      "N_h =  59 h =  0.016666666666666666 , N_M =  100\n",
      "N_h =  59 h =  0.016666666666666666 , N_M =  1000\n",
      "2\n",
      "err :  [5.67042399e-05 6.13385427e-05 5.97276395e-05]\n",
      "N_h =  19 h =  0.05 , N_M =  10\n",
      "N_h =  19 h =  0.05 , N_M =  100\n",
      "N_h =  19 h =  0.05 , N_M =  1000\n",
      "2\n",
      "err :  [5.94001158e-05 5.77470298e-05 5.64049743e-05]\n",
      "N_h =  29 h =  0.03333333333333333 , N_M =  10\n",
      "N_h =  29 h =  0.03333333333333333 , N_M =  100\n",
      "N_h =  29 h =  0.03333333333333333 , N_M =  1000\n",
      "2\n",
      "err :  [6.58684168e-05 6.43990792e-05 6.36185527e-05]\n",
      "N_h =  39 h =  0.025 , N_M =  10\n",
      "N_h =  39 h =  0.025 , N_M =  100\n",
      "N_h =  39 h =  0.025 , N_M =  1000\n",
      "2\n",
      "err :  [7.08839586e-05 6.57968894e-05 6.53746862e-05]\n",
      "N_h =  49 h =  0.02 , N_M =  10\n",
      "N_h =  49 h =  0.02 , N_M =  100\n",
      "N_h =  49 h =  0.02 , N_M =  1000\n",
      "2\n",
      "err :  [8.32150445e-05 8.88047408e-05 8.79987372e-05]\n",
      "N_h =  59 h =  0.016666666666666666 , N_M =  10\n",
      "N_h =  59 h =  0.016666666666666666 , N_M =  100\n",
      "N_h =  59 h =  0.016666666666666666 , N_M =  1000\n",
      "2\n",
      "err :  [8.79012721e-05 9.27108856e-05 9.12581323e-05]\n",
      "N_h =  19 h =  0.05 , N_M =  10\n",
      "N_h =  19 h =  0.05 , N_M =  100\n",
      "N_h =  19 h =  0.05 , N_M =  1000\n",
      "2\n",
      "err :  [5.87118940e-05 5.76324044e-05 5.90776907e-05]\n",
      "N_h =  29 h =  0.03333333333333333 , N_M =  10\n",
      "N_h =  29 h =  0.03333333333333333 , N_M =  100\n",
      "N_h =  29 h =  0.03333333333333333 , N_M =  1000\n",
      "2\n",
      "err :  [5.99919214e-05 6.38896187e-05 6.29696879e-05]\n",
      "N_h =  39 h =  0.025 , N_M =  10\n",
      "N_h =  39 h =  0.025 , N_M =  100\n",
      "N_h =  39 h =  0.025 , N_M =  1000\n",
      "2\n",
      "err :  [6.05490655e-05 6.20665605e-05 6.07790005e-05]\n",
      "N_h =  49 h =  0.02 , N_M =  10\n",
      "N_h =  49 h =  0.02 , N_M =  100\n",
      "N_h =  49 h =  0.02 , N_M =  1000\n",
      "2\n",
      "err :  [6.81679382e-05 6.63890819e-05 6.71346001e-05]\n",
      "N_h =  59 h =  0.016666666666666666 , N_M =  10\n",
      "N_h =  59 h =  0.016666666666666666 , N_M =  100\n",
      "N_h =  59 h =  0.016666666666666666 , N_M =  1000\n",
      "2\n",
      "err :  [6.37995995e-05 6.79141751e-05 6.65585497e-05]\n"
     ]
    }
   ],
   "source": [
    "N_n = 10 #number of neurons\n",
    "N_HL = 2\n",
    "lr = 5*1e-4\n",
    "\n",
    "N_hs = np.array([19, 29, 39, 49, 59])\n",
    "N_Ms = np.array([10, 100, 1000])\n",
    "N_mus = [10, 15, 20, 25]\n",
    "\n",
    "trials = 10\n",
    "\n",
    "\n",
    "for N_mu in N_mus:\n",
    "    err = np.zeros((len(N_hs), len(N_Ms)))\n",
    "    time_NN_mean=np.zeros(len(N_hs))\n",
    "    time_New_mean=np.zeros(len(N_hs))\n",
    "\n",
    "    for l, N_h in enumerate(N_hs):\n",
    "        h = 1/(N_h + 1)\n",
    "        H = np.arange(1, N_h+1)*h\n",
    "        net=Net(N_HL, N_n, N_h, N_mu).double()\n",
    "\n",
    "        PATH_model = PATH_SAVE + \"/K = \" + str(K) + \"_model_N_h= \" + str(N_h) + \"_N_mu=\" + str(N_mu) + '.pth'\n",
    "        net.load_state_dict(torch.load(PATH_model))\n",
    "\n",
    "        \n",
    "        for k, N_M in enumerate(N_Ms):\n",
    "            print(\"N_h = \", N_h, \"h = \", h, \", N_M = \", N_M)\n",
    "            integral_trials = np.zeros(trials)\n",
    "            compute_time = False\n",
    "            if k > len(N_Ms)-2:\n",
    "                compute_time = True\n",
    "                time_NN = np.zeros((trials, N_Ms[-1]))\n",
    "                time_New = np.zeros((trials, N_Ms[-1]))\n",
    "\n",
    "            for i in range(trials):\n",
    "                Mus = np.random.uniform(low = -1, high = 1, size = (N_mu, N_M))\n",
    "                I_Ns = np.zeros(N_M)\n",
    "                for j in range(N_M):\n",
    "                    somme = fct(Mus[:,j], K)\n",
    "                    #NN sol:\n",
    "                    if compute_time == True:\n",
    "                        time_start = perf_counter()\n",
    "                    y_pred = net((torch.from_numpy(Mus[:,j]))) \n",
    "                    if compute_time == True:\n",
    "                        time_end = perf_counter()\n",
    "                        time_NN[i, j] = time_end - time_start\n",
    "\n",
    "                    #Newmark sol:\n",
    "                    if compute_time == True:\n",
    "                        time_start = perf_counter()\n",
    "                    y_new, t = newmark(N_h, N_h, somme, h, h)\n",
    "                    if compute_time == True:\n",
    "                        time_end = perf_counter()\n",
    "                        time_New[i, j] = time_end - time_start\n",
    "\n",
    "                    #Exact sol: \n",
    "                    uex = sol_given_fct2(somme)\n",
    "                    y_ex = (np.vectorize(uex))(H,t)\n",
    "\n",
    "                    #sum over x_j (except the last component)\n",
    "                    I_Ns[j] = h * np.sum(((y_pred.detach().numpy()-y_ex)[:-1])**2)\n",
    "                #approximation of the integral:\n",
    "                integral_trials[i] = np.mean(I_Ns) \n",
    "            #mean over N_trials:\n",
    "            err[l, k] = np.mean(integral_trials)\n",
    "\n",
    "        #save the mean time to compute the solutions:\n",
    "        time_NN_mean[l] = np.mean(time_NN)\n",
    "        time_New_mean[l] = np.mean(time_New)\n",
    "        print(\"err : \", err[l])\n",
    "    \n",
    "    #save the data\n",
    "    np.savetxt(PATH_SAVE + \"/K = \" + str(K) + \"err_N_mu= \" + str(N_mu) + \".dat\", np.array(err))\n",
    "    np.savetxt(PATH_SAVE + \"/K = \" + str(K) + \"time_NN_N_mu= \" + str(N_mu) + \".dat\", np.array(time_NN_mean))\n",
    "    np.savetxt(PATH_SAVE + \"/K = \" + str(K) + \"time_New_N_mu= \" + str(N_mu) + \".dat\", np.array(time_New_mean))\n",
    "\n",
    "\n",
    "    "
   ]
  },
  {
   "cell_type": "code",
   "execution_count": 29,
   "metadata": {},
   "outputs": [
    {
     "data": {
      "image/png": "[encoded data removed]",
      "text/plain": [
       "<Figure size 360x288 with 1 Axes>"
      ]
     },
     "metadata": {
      "needs_background": "light"
     },
     "output_type": "display_data"
    },
    {
     "name": "stdout",
     "output_type": "stream",
     "text": [
      "mean slopes :  [-0.22784395  0.56278805 -0.09012925  0.41025331  0.11411197]\n"
     ]
    }
   ],
   "source": [
    "N_mus = [5, 10, 15, 20, 25]\n",
    "colors = ['#1f77b4', '#ff7f0e', '#2ca02c', '#d62728', '#9467bd', '#8c564b', '#e377c2', '#7f7f7f', '#bcbd22', '#17becf']\n",
    "legend = []\n",
    "custom_lines = []\n",
    "slopes_N_mu = np.zeros(len(N_mus))\n",
    "fig = plt.figure(figsize=(5, 4))\n",
    "\n",
    "for i, N_mu in enumerate(N_mus):\n",
    "        err = np.genfromtxt(PATH_SAVE + \"/K = \" + str(K) + \"err_N_mu= \" + str(N_mu) + \".dat\")\n",
    "        slopes = np.zeros((len(N_Ms)))\n",
    "        for j in range(len(N_Ms)):\n",
    "            plt.plot(N_hs, err[:, j], '-x', color = colors[i])\n",
    "            slopes[j], _= np.polyfit(np.log(N_hs), np.log(err[:, j]), 1)\n",
    "            legend.append(r\"$N_\\mu = $\" +  str(N_mu)+ r\", $N_M$ = \" + str(int(N_Ms[j])))\n",
    "            custom_lines.append(Line2D([0], [0], color=colors[i]))\n",
    "        slopes_N_mu[i] = np.mean(slopes)\n",
    "\n",
    "for i in range(2):\n",
    "    legend.append(\"\")\n",
    "    custom_lines.append(Line2D([0], [0], color='w'))\n",
    "    plt.plot(np.zeros(1), np.zeros([1,3]), color='w', alpha=0, label=' ')\n",
    "\n",
    "plt.yscale('log')\n",
    "plt.xscale('log')\n",
    "plt.legend(custom_lines, legend, bbox_to_anchor=(1.,1.), ncol = 2)\n",
    "#plt.savefig(fname=\"./Figures/table convergence/NN_varying_N_mu K = \" + str(K))\n",
    "plt.show()\n",
    "print(\"mean slopes : \", slopes_N_mu)"
   ]
  },
  {
   "cell_type": "markdown",
   "metadata": {},
   "source": [
    "# Time "
   ]
  },
  {
   "cell_type": "code",
   "execution_count": 38,
   "metadata": {},
   "outputs": [
    {
     "name": "stdout",
     "output_type": "stream",
     "text": [
      "N_mu :  5\n",
      "time NN\n",
      "[0.0003 0.0002 0.0002 0.0002 0.0002]\n",
      "time Newmark\n",
      "[0.001  0.0018 0.0032 0.0046 0.0069]\n",
      "\n",
      "N_mu :  10\n",
      "time NN\n",
      "[0.0003 0.0003 0.0002 0.0002 0.0002]\n",
      "time Newmark\n",
      "[0.0011 0.0024 0.0033 0.0047 0.0067]\n",
      "\n",
      "N_mu :  15\n",
      "time NN\n",
      "[0.0002 0.0002 0.0002 0.0002 0.0002]\n",
      "time Newmark\n",
      "[0.0009 0.0018 0.0033 0.0048 0.0072]\n",
      "\n",
      "N_mu :  20\n",
      "time NN\n",
      "[0.0002 0.0001 0.0002 0.0002 0.0002]\n",
      "time Newmark\n",
      "[0.0009 0.0018 0.0032 0.005  0.0069]\n",
      "\n",
      "N_mu :  25\n",
      "time NN\n",
      "[0.0002 0.0002 0.0002 0.0002 0.0002]\n",
      "time Newmark\n",
      "[0.001  0.0019 0.0031 0.0048 0.0069]\n",
      "\n"
     ]
    }
   ],
   "source": [
    "np.set_printoptions(precision=4, suppress = False)\n",
    "\n",
    "for j, N_mu in enumerate(N_mus):\n",
    "    time_NN_mean = np.genfromtxt(PATH_SAVE + \"/K = \" + str(K) + \"time_NN_N_mu= \" + str(N_mu) + \".dat\")\n",
    "    time_New_mean = np.genfromtxt(PATH_SAVE + \"/K = \" + str(K) + \"time_New_N_mu= \" + str(N_mu) + \".dat\")\n",
    "    print(\"N_mu : \", N_mu)\n",
    "    print(\"time NN\")\n",
    "    print(time_NN_mean)\n",
    "    print(\"time Newmark\")\n",
    "    print(time_New_mean)\n",
    "    print( )"
   ]
  },
  {
   "cell_type": "code",
   "execution_count": null,
   "metadata": {},
   "outputs": [],
   "source": []
  }
 ],
 "metadata": {
  "interpreter": {
   "hash": "6aa7871422cbf9296a09eca5272ae12f42feac121f15077f0682f5d4affb8114"
  },
  "kernelspec": {
   "display_name": "Python 3.9.10 ('pytorch')",
   "language": "python",
   "name": "python3"
  },
  "language_info": {
   "codemirror_mode": {
    "name": "ipython",
    "version": 3
   },
   "file_extension": ".py",
   "mimetype": "text/x-python",
   "name": "python",
   "nbconvert_exporter": "python",
   "pygments_lexer": "ipython3",
   "version": "3.9.10"
  },
  "orig_nbformat": 4
 },
 "nbformat": 4,
 "nbformat_minor": 2
}
